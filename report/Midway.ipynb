{
 "cells": [
  {
   "cell_type": "markdown",
   "id": "691a3baa-d9c5-497e-8d12-1210ea629613",
   "metadata": {},
   "source": [
    "# Research Paper Midway Point\n",
    "\n",
    "__Deadline Warrior__: Jitao Zhang, Wanqing Hu, Siying Liu"
   ]
  },
  {
   "cell_type": "markdown",
   "id": "f4e88e80-9bef-4f6c-8cae-a119f18e95d0",
   "metadata": {},
   "source": [
    "## 1. Research Summary"
   ]
  },
  {
   "cell_type": "markdown",
   "id": "f7dcd8b1-a7d1-4be4-98e1-ae3b327b4f64",
   "metadata": {},
   "source": [
    "This research investigates the impact of diabetes on the health of Californians from 2016 to 2022, focusing on hospitalizations and deaths. It analyzes trends and patterns to understand the burden of diabetes across different counties and complications. The findings aim to inform about the health conditions of Californians and provide insights for better healthcare management."
   ]
  },
  {
   "cell_type": "markdown",
   "id": "50a43ee1-5fe1-42af-b53c-ba3a0a2498fc",
   "metadata": {},
   "source": [
    "## 2. Revised Research Questions"
   ]
  },
  {
   "cell_type": "markdown",
   "id": "a8d983aa-4eed-4dc4-baa6-01641ac6ccdb",
   "metadata": {},
   "source": [
    "### Generial Direction:\n",
    "\n",
    "We will explore how diabetes has impacted the health of the Californian population from 2016 to 2022, as measured by the number of hospitalizations and deaths."
   ]
  },
  {
   "cell_type": "markdown",
   "id": "f8119cf3-66df-4f6e-9c0e-eb1727bc40c3",
   "metadata": {},
   "source": [
    "### Three Pathways:"
   ]
  },
  {
   "cell_type": "markdown",
   "id": "5b5844ff-9396-4dfd-aba7-a056201971f5",
   "metadata": {},
   "source": [
    "_Jitao_\n",
    "- Original Question: The relationship between the number of deaths due to diabetes and the number of hospitalizations due to diabetes in California from 2016 to 2022.\n",
    "- __Revised Question:__ Is there a relationship between the number of deaths due to diabetes in California with respect to the number of hospitalizations related to diabetes and the at-risk population using data from 2016 to 2022?\n",
    "- Justification: In my original question, there is essentially one response and just one explanatory variable, which may overlook some lurking or confounding variables' effects as TA suggested. Therefore, this time, i choose to add one more variable, population at risk from all counties of california each year as a second explanatory variable. however, since there is just 7 observations in another dataset after we clean it, we can't "
   ]
  },
  {
   "attachments": {},
   "cell_type": "markdown",
   "id": "083e68c8-3e5f-4cbc-9c8d-6a969e8ec59c",
   "metadata": {},
   "source": [
    "_Wanqing_\n",
    "- Original question: The trend of the number of hospitalizations due to diabetes across 2016-2022 for each county in California.\n",
    "- __Revised Question__: Is there any county that had the highest mean diabetes-related hospitalization rate for more than three years between 2016 and 2022? The hospitalization rate refers to column `ObsRate_ICD10`, which is calculated by $\\frac{\\text{Count of Hospitalizations}}{\\text{Population at risk}} \\times 100,000$\n",
    "- Justification: Our TA initially thought we were trying to solve the problem by creating visualizations. However, our original goal was to build a suitable model (e.g., a time series model). After analyzing the data, we realized that the limited number of time points made it difficult to construct a reliable model. Therefore, we shifted to compare hospitalization rates across counties for each year and investigate whether any county consistently had the highest rate over this period."
   ]
  },
  {
   "cell_type": "markdown",
   "id": "1c1c6e5e-612a-447d-9d3c-868fac574f0c",
   "metadata": {},
   "source": [
    "lsy notice: we are using 4 categories right now! short/long/uncontrolled/Composite!!!"
   ]
  },
  {
   "cell_type": "markdown",
   "id": "f0a23448-5ef9-46a4-9660-c23eb8db363a",
   "metadata": {},
   "source": [
    "## 3. Data Cleaning \n",
    "_(Our detailed data cleaning code and procedure are shown in cleaning/clean.ipynb on Github)_"
   ]
  },
  {
   "cell_type": "markdown",
   "id": "4ee34ad6-1c01-4da9-b1df-69be7d15d288",
   "metadata": {},
   "source": [
    "There are two datasets we will be using throughout our research, and we have cleaned both of them before doing any combinings/joinings.\n",
    "\n",
    "__Cleaning the first dataset__, `data-table.csv`, is fairly straightforward, since the dataset is already in good shape. The only steps we need to take are:\n",
    "- Filter out the columns that we definitely won’t need; in this case, it will be `URL`.\n",
    "- Only keep rows that satisfy our research criteria, meaning the data collected must be from California (`STATE` == 'CA') and obtained between 2016 and 2022 (2016 <= `YEAR` <= 2022).\n",
    "\n",
    "__Cleaning the second dataset__, `rates-of-preventable-hospitalizations-for-selected-medical-conditions-by-county-.csv`, involves a bit more work. To start, we want to keep only the rows within our study range, which is from 2016 to 2022. Then, we filtered out some irrelevant columns like `Count_ICD9` and `Population_ICD9`, as these variables are based on older criteria before 2016 and contain only empty values after the new criteria were applied. Next, we need to exclude any hospitalization records caused by conditions unrelated to diabetes. In our case, there are only four diabetes-related conditions, so it’s actually quicker to use `isin` to include them, rather than excluding the others. Afterward, by using `info()`, we noticed an anomaly with a non-null value in one of the annotation columns. We looked into that specific observation and realized it was just a period showing in that column, so it wasn’t a major issue. As a second-to-last step, we further filtered out some columns that may not be helpful for our research questions, such as `RiskAdjRate_ICD10` and the annotation columns mentioned above. Finally, we used `shape`, `info()`, and `describe()` to ensure that our cleaned data is indeed in good format."
   ]
  },
  {
   "cell_type": "markdown",
   "id": "246ec190-f43a-45c0-b700-230800afeeaf",
   "metadata": {},
   "source": [
    "## 5. How EDA affects the analysis\n",
    "EDA helps us better understand the data distribution and identify trends in hospitalization and death rates. Through EDA, we did not encounter missing or inconsistent data, so we do not need to perform transformations or imputations. Instead, we focus on analyzing the hospitalization rates, complications, and mortality without additional preprocessing, so actually EDA process does not affect much on the workflow we are going to carry out with our data."
   ]
  },
  {
   "cell_type": "code",
   "execution_count": null,
   "id": "b55c2a51-ea07-4a85-8901-f420947f54fd",
   "metadata": {},
   "outputs": [],
   "source": []
  },
  {
   "cell_type": "code",
   "execution_count": null,
   "id": "652ee3a2-7167-4bbe-8ba2-abc7cf4027b2",
   "metadata": {},
   "outputs": [],
   "source": []
  },
  {
   "cell_type": "code",
   "execution_count": null,
   "id": "bd21324a-5438-4f59-b112-22009ba7b8bd",
   "metadata": {},
   "outputs": [],
   "source": []
  },
  {
   "cell_type": "code",
   "execution_count": null,
   "id": "c7e94e32-81e7-4688-8eac-5e8a375258b0",
   "metadata": {},
   "outputs": [],
   "source": []
  },
  {
   "cell_type": "code",
   "execution_count": null,
   "id": "7820d01f-11bb-4e80-a8a6-b40dcf5405c2",
   "metadata": {},
   "outputs": [],
   "source": []
  },
  {
   "cell_type": "code",
   "execution_count": null,
   "id": "25f6951b-92dd-4ece-85f0-fd719698b38e",
   "metadata": {},
   "outputs": [],
   "source": []
  },
  {
   "cell_type": "code",
   "execution_count": null,
   "id": "be9fda63-a515-446a-9ced-7c6dc820856b",
   "metadata": {},
   "outputs": [],
   "source": []
  }
 ],
 "metadata": {
  "kernelspec": {
   "display_name": "Python 3 (ipykernel)",
   "language": "python",
   "name": "python3"
  },
  "language_info": {
   "codemirror_mode": {
    "name": "ipython",
    "version": 3
   },
   "file_extension": ".py",
   "mimetype": "text/x-python",
   "name": "python",
   "nbconvert_exporter": "python",
   "pygments_lexer": "ipython3",
   "version": "3.12.3"
  }
 },
 "nbformat": 4,
 "nbformat_minor": 5
}
