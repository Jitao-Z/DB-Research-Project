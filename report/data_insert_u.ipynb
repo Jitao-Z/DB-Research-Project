{
 "cells": [
  {
   "cell_type": "code",
   "execution_count": 14,
   "id": "33ddefc5-999f-4c66-8380-848050b3c3d6",
   "metadata": {},
   "outputs": [],
   "source": [
    "import pandas as pd\n",
    "from pathlib import Path"
   ]
  },
  {
   "cell_type": "code",
   "execution_count": 16,
   "id": "b161a80b-02f8-4ee6-b26a-000790616811",
   "metadata": {},
   "outputs": [],
   "source": [
    "california_path = Path.cwd().parent / \"data\" / \"cleaned\" / \"california.csv\"\n",
    "counties_path = Path.cwd().parent / \"data\" / \"cleaned\" / \"counties.csv\""
   ]
  },
  {
   "cell_type": "code",
   "execution_count": 18,
   "id": "f8834e7c-ff86-41b0-a18c-39823b26d4f3",
   "metadata": {},
   "outputs": [],
   "source": [
    "california = pd.read_csv(california_path)\n",
    "counties = pd.read_csv(counties_path)"
   ]
  },
  {
   "cell_type": "code",
   "execution_count": 20,
   "id": "10cb7df7-7f60-442e-a198-4d0af9eb680d",
   "metadata": {},
   "outputs": [
    {
     "data": {
      "text/html": [
       "<div>\n",
       "<style scoped>\n",
       "    .dataframe tbody tr th:only-of-type {\n",
       "        vertical-align: middle;\n",
       "    }\n",
       "\n",
       "    .dataframe tbody tr th {\n",
       "        vertical-align: top;\n",
       "    }\n",
       "\n",
       "    .dataframe thead th {\n",
       "        text-align: right;\n",
       "    }\n",
       "</style>\n",
       "<table border=\"1\" class=\"dataframe\">\n",
       "  <thead>\n",
       "    <tr style=\"text-align: right;\">\n",
       "      <th></th>\n",
       "      <th>YEAR</th>\n",
       "      <th>STATE</th>\n",
       "      <th>RATE</th>\n",
       "      <th>DEATHS</th>\n",
       "    </tr>\n",
       "  </thead>\n",
       "  <tbody>\n",
       "    <tr>\n",
       "      <th>0</th>\n",
       "      <td>2022</td>\n",
       "      <td>'CA'</td>\n",
       "      <td>25.0</td>\n",
       "      <td>11618</td>\n",
       "    </tr>\n",
       "    <tr>\n",
       "      <th>1</th>\n",
       "      <td>2021</td>\n",
       "      <td>'CA'</td>\n",
       "      <td>25.5</td>\n",
       "      <td>11440</td>\n",
       "    </tr>\n",
       "    <tr>\n",
       "      <th>2</th>\n",
       "      <td>2020</td>\n",
       "      <td>'CA'</td>\n",
       "      <td>25.4</td>\n",
       "      <td>11642</td>\n",
       "    </tr>\n",
       "    <tr>\n",
       "      <th>3</th>\n",
       "      <td>2019</td>\n",
       "      <td>'CA'</td>\n",
       "      <td>21.8</td>\n",
       "      <td>9854</td>\n",
       "    </tr>\n",
       "    <tr>\n",
       "      <th>4</th>\n",
       "      <td>2018</td>\n",
       "      <td>'CA'</td>\n",
       "      <td>21.4</td>\n",
       "      <td>9506</td>\n",
       "    </tr>\n",
       "  </tbody>\n",
       "</table>\n",
       "</div>"
      ],
      "text/plain": [
       "   YEAR STATE  RATE  DEATHS\n",
       "0  2022  'CA'  25.0   11618\n",
       "1  2021  'CA'  25.5   11440\n",
       "2  2020  'CA'  25.4   11642\n",
       "3  2019  'CA'  21.8    9854\n",
       "4  2018  'CA'  21.4    9506"
      ]
     },
     "execution_count": 20,
     "metadata": {},
     "output_type": "execute_result"
    }
   ],
   "source": [
    "california_new = california.copy()\n",
    "california_new[\"STATE\"] = california[\"STATE\"].apply(lambda x: f\"'{x}'\")\n",
    "california_new[\"DEATHS\"] = california[\"DEATHS\"].str.replace(\",\", \"\").astype(int)\n",
    "california_new.head()"
   ]
  },
  {
   "cell_type": "code",
   "execution_count": 22,
   "id": "9311403d-585c-4a9d-a48f-c25fb8f3fa6c",
   "metadata": {},
   "outputs": [
    {
     "data": {
      "text/html": [
       "<div>\n",
       "<style scoped>\n",
       "    .dataframe tbody tr th:only-of-type {\n",
       "        vertical-align: middle;\n",
       "    }\n",
       "\n",
       "    .dataframe tbody tr th {\n",
       "        vertical-align: top;\n",
       "    }\n",
       "\n",
       "    .dataframe thead th {\n",
       "        text-align: right;\n",
       "    }\n",
       "</style>\n",
       "<table border=\"1\" class=\"dataframe\">\n",
       "  <thead>\n",
       "    <tr style=\"text-align: right;\">\n",
       "      <th></th>\n",
       "      <th>Year</th>\n",
       "      <th>County</th>\n",
       "      <th>PQI</th>\n",
       "      <th>PQIDescription</th>\n",
       "      <th>Count_ICD10</th>\n",
       "      <th>Population_ICD10</th>\n",
       "      <th>ObsRate_ICD10</th>\n",
       "    </tr>\n",
       "  </thead>\n",
       "  <tbody>\n",
       "    <tr>\n",
       "      <th>0</th>\n",
       "      <td>2016</td>\n",
       "      <td>'Alameda'</td>\n",
       "      <td>1</td>\n",
       "      <td>'Diabetes Short-term Complications'</td>\n",
       "      <td>716</td>\n",
       "      <td>1304840</td>\n",
       "      <td>54.9</td>\n",
       "    </tr>\n",
       "    <tr>\n",
       "      <th>1</th>\n",
       "      <td>2017</td>\n",
       "      <td>'Alameda'</td>\n",
       "      <td>1</td>\n",
       "      <td>'Diabetes Short-term Complications'</td>\n",
       "      <td>618</td>\n",
       "      <td>1314687</td>\n",
       "      <td>47.0</td>\n",
       "    </tr>\n",
       "    <tr>\n",
       "      <th>2</th>\n",
       "      <td>2018</td>\n",
       "      <td>'Alameda'</td>\n",
       "      <td>1</td>\n",
       "      <td>'Diabetes Short-term Complications'</td>\n",
       "      <td>651</td>\n",
       "      <td>1323933</td>\n",
       "      <td>49.2</td>\n",
       "    </tr>\n",
       "    <tr>\n",
       "      <th>3</th>\n",
       "      <td>2019</td>\n",
       "      <td>'Alameda'</td>\n",
       "      <td>1</td>\n",
       "      <td>'Diabetes Short-term Complications'</td>\n",
       "      <td>637</td>\n",
       "      <td>1329186</td>\n",
       "      <td>47.9</td>\n",
       "    </tr>\n",
       "    <tr>\n",
       "      <th>4</th>\n",
       "      <td>2020</td>\n",
       "      <td>'Alameda'</td>\n",
       "      <td>1</td>\n",
       "      <td>'Diabetes Short-term Complications'</td>\n",
       "      <td>634</td>\n",
       "      <td>1344023</td>\n",
       "      <td>47.2</td>\n",
       "    </tr>\n",
       "  </tbody>\n",
       "</table>\n",
       "</div>"
      ],
      "text/plain": [
       "   Year     County  PQI                       PQIDescription Count_ICD10  \\\n",
       "0  2016  'Alameda'    1  'Diabetes Short-term Complications'         716   \n",
       "1  2017  'Alameda'    1  'Diabetes Short-term Complications'         618   \n",
       "2  2018  'Alameda'    1  'Diabetes Short-term Complications'         651   \n",
       "3  2019  'Alameda'    1  'Diabetes Short-term Complications'         637   \n",
       "4  2020  'Alameda'    1  'Diabetes Short-term Complications'         634   \n",
       "\n",
       "   Population_ICD10  ObsRate_ICD10  \n",
       "0           1304840           54.9  \n",
       "1           1314687           47.0  \n",
       "2           1323933           49.2  \n",
       "3           1329186           47.9  \n",
       "4           1344023           47.2  "
      ]
     },
     "execution_count": 22,
     "metadata": {},
     "output_type": "execute_result"
    }
   ],
   "source": [
    "counties.head()\n",
    "counties_new = counties.copy()\n",
    "counties_new['County'] = counties['County'].apply(lambda x: f\"'{x}'\")\n",
    "counties_new['PQIDescription'] = counties['PQIDescription'].apply(lambda x: f\"'{x}'\")\n",
    "counties_new['Population_ICD10'] = counties['Population_ICD10'].str.replace(',', '').astype(int)\n",
    "counties_new.head()"
   ]
  },
  {
   "cell_type": "code",
   "execution_count": 24,
   "id": "17d84881-1601-4747-8be2-a044c4ecde0d",
   "metadata": {},
   "outputs": [
    {
     "name": "stdout",
     "output_type": "stream",
     "text": [
      "SQL file generated: data_insert.sql\n"
     ]
    }
   ],
   "source": [
    "def df_to_sql(df, table_name):\n",
    "    sql_statements = []\n",
    "    for i, row in df.iterrows():\n",
    "        values = \", \".join(str(x) for x in row)  # Convert row to string values\n",
    "        sql_statements.append(f\"INSERT INTO {table_name} VALUES ({values});\")\n",
    "    return \"\\n\".join(sql_statements)\n",
    "\n",
    "with open(\"data_insert.sql\", \"w\") as f:\n",
    "    f.write(df_to_sql(california_new, \"california\") + \"\\n\")\n",
    "    f.write(df_to_sql(counties_new, \"counties\"))\n",
    "\n",
    "print(\"SQL file generated: data_insert.sql\")"
   ]
  }
 ],
 "metadata": {
  "kernelspec": {
   "display_name": "Python 3 (ipykernel)",
   "language": "python",
   "name": "python3"
  },
  "language_info": {
   "codemirror_mode": {
    "name": "ipython",
    "version": 3
   },
   "file_extension": ".py",
   "mimetype": "text/x-python",
   "name": "python",
   "nbconvert_exporter": "python",
   "pygments_lexer": "ipython3",
   "version": "3.12.8"
  }
 },
 "nbformat": 4,
 "nbformat_minor": 5
}
