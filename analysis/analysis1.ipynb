{
 "cells": [
  {
   "cell_type": "code",
   "execution_count": null,
   "id": "4aa69c65-ef39-44e6-9c1b-2c356fa86429",
   "metadata": {},
   "outputs": [],
   "source": [
    "# for eda"
   ]
  }
 ],
 "metadata": {
  "kernelspec": {
   "display_name": "Python 3 (ipykernel)",
   "language": "python",
   "name": "python3"
  },
  "language_info": {
   "codemirror_mode": {
    "name": "ipython",
    "version": 3
   },
   "file_extension": ".py",
   "mimetype": "text/x-python",
   "name": "python",
   "nbconvert_exporter": "python",
   "pygments_lexer": "ipython3",
   "version": "3.12.8"
  }
 },
 "nbformat": 4,
 "nbformat_minor": 5
}
