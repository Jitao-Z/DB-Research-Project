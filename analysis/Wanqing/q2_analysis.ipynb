{
 "cells": [
  {
   "cell_type": "markdown",
   "id": "d878c690-cfbf-490b-8a47-f38b000b92f6",
   "metadata": {},
   "source": [
    "# Research Pathway 2 - Wanqing Hu"
   ]
  },
  {
   "cell_type": "markdown",
   "id": "e1fe0493-d5bd-4fee-8545-a537f782c50b",
   "metadata": {},
   "source": [
    "Uncomment and run the below cell only if you have not installed `oracledb` package."
   ]
  },
  {
   "cell_type": "code",
   "execution_count": 6,
   "id": "48cc7b1c-4345-47ef-9cf3-77dead937a90",
   "metadata": {},
   "outputs": [],
   "source": [
    "# try:\n",
    "#     %pip install --user \"oracledb\" --no-warn-script-location\n",
    "# except Exception as e:\n",
    "#     print(\"\\x1b[31m\\u2717 Unexpected error! Please contact course staff\\n\" +\n",
    "#          \"Please include the entire text above and below in your message.\")\n",
    "#     raise"
   ]
  },
  {
   "cell_type": "code",
   "execution_count": 7,
   "id": "051cd3f8-0d88-4de9-b522-1329f5687204",
   "metadata": {},
   "outputs": [],
   "source": [
    "# Import packages\n",
    "import oracledb\n",
    "import pandas as pd\n",
    "import matplotlib.pyplot as plt"
   ]
  },
  {
   "cell_type": "code",
   "execution_count": 8,
   "id": "ebff1801-c848-4f2f-8924-c19638dbac23",
   "metadata": {},
   "outputs": [],
   "source": [
    "dsn = oracledb.makedsn(\"localhost\", 1522, service_name=\"stu\")\n",
    "connection = oracledb.connect(user=\"ora_wanqing1\", password=\"a65768004\", dsn=dsn)"
   ]
  },
  {
   "cell_type": "code",
   "execution_count": 9,
   "id": "f2e54e34-ef4a-4893-b079-2a931c05404e",
   "metadata": {},
   "outputs": [],
   "source": [
    "cur = connection.cursor()"
   ]
  },
  {
   "cell_type": "markdown",
   "id": "8550b179-3cb1-4fee-b9ca-8fedfc7d3377",
   "metadata": {},
   "source": [
    "## SQL queries to pull data and perform analysis"
   ]
  },
  {
   "cell_type": "code",
   "execution_count": 11,
   "id": "976c4ab1-25bc-488a-a269-5306da84f7bb",
   "metadata": {},
   "outputs": [],
   "source": [
    "cur.execute(\"\"\"\n",
    "    CREATE OR REPLACE VIEW year_county_avg AS\n",
    "    SELECT YEAR, COUNTY, AVG(OBSRATE_ICD10) AS avg_rate\n",
    "    FROM COUNTIES\n",
    "    GROUP BY YEAR, COUNTY\n",
    "\"\"\")"
   ]
  },
  {
   "cell_type": "code",
   "execution_count": 12,
   "id": "a87b9da8-c8fb-4edc-8a8e-b25021b6b011",
   "metadata": {},
   "outputs": [],
   "source": [
    "cur.execute(\"\"\"\n",
    "CREATE OR REPLACE VIEW max_rate_each_year AS\n",
    "SELECT y.YEAR AS year, y.COUNTY AS county, y.avg_rate AS avg_rate\n",
    "FROM year_county_avg y\n",
    "JOIN (SELECT YEAR, MAX(avg_rate) AS max_rate FROM year_county_avg GROUP BY YEAR) m\n",
    "ON y.year=m.YEAR AND y.avg_rate=m.max_rate\n",
    "\"\"\")"
   ]
  },
  {
   "cell_type": "code",
   "execution_count": 13,
   "id": "41414c0f-a4be-4efc-b69a-08ba1a99b400",
   "metadata": {},
   "outputs": [
    {
     "name": "stdout",
     "output_type": "stream",
     "text": [
      "('Yuba', 5)\n"
     ]
    }
   ],
   "source": [
    "for row in cur.execute('SELECT county, COUNT(*) AS count FROM max_rate_each_year GROUP BY county HAVING COUNT(*)>3'):\n",
    "    print(row)"
   ]
  },
  {
   "cell_type": "markdown",
   "id": "78459b44-2c52-4310-bb18-59280d37af54",
   "metadata": {},
   "source": [
    "## Visualization of results"
   ]
  },
  {
   "cell_type": "code",
   "execution_count": 15,
   "id": "bcc07329-6555-40c4-a032-c27950e33eb2",
   "metadata": {},
   "outputs": [
    {
     "name": "stdout",
     "output_type": "stream",
     "text": [
      "(2020, 'Butte', 151.05)\n",
      "(2018, 'Yuba', 207.325)\n",
      "(2017, 'Yuba', 204.8)\n",
      "(2019, 'Yuba', 179.925)\n",
      "(2016, 'Yuba', 174.85)\n",
      "(2022, 'Yuba', 163.15)\n",
      "(2021, 'Merced', 182.625)\n"
     ]
    }
   ],
   "source": [
    "for row in cur.execute('SELECT * FROM max_rate_each_year'):\n",
    "    print(row)"
   ]
  },
  {
   "cell_type": "code",
   "execution_count": 16,
   "id": "7d8373bf-1720-4d47-8291-570bd523dbc1",
   "metadata": {},
   "outputs": [
    {
     "data": {
      "image/png": "[encoded data removed]",
      "text/plain": [
       "<Figure size 600x400 with 1 Axes>"
      ]
     },
     "metadata": {},
     "output_type": "display_data"
    }
   ],
   "source": [
    "data = [\n",
    "    (2020, 'Butte', 151.05),\n",
    "    (2018, 'Yuba', 207.325),\n",
    "    (2017, 'Yuba', 204.8),\n",
    "    (2019, 'Yuba', 179.925),\n",
    "    (2016, 'Yuba', 174.85),\n",
    "    (2022, 'Yuba', 163.15),\n",
    "    (2021, 'Merced', 182.625)\n",
    "]\n",
    "\n",
    "df = pd.DataFrame(data, columns=['Year', 'County', 'Rate'])\n",
    "df.sort_values('Year', inplace=True)\n",
    "\n",
    "custom_colors = {\n",
    "    'Yuba': 'lightblue',\n",
    "    'Merced': 'pink',\n",
    "    'Butte': 'khaki'\n",
    "}\n",
    "df['Color'] = df['County'].map(custom_colors)\n",
    "\n",
    "plt.figure(figsize=(6, 4))\n",
    "plt.bar(df['Year'].astype(str), df['Rate'], color=df['Color'])\n",
    "\n",
    "handles = [plt.Rectangle((0, 0), 1, 1, color=custom_colors[c]) for c in custom_colors]\n",
    "plt.legend(handles, custom_colors.keys(), title='County')\n",
    "\n",
    "plt.title('Top County by Hospitalization Rate (per Year)')\n",
    "plt.xlabel('Year')\n",
    "plt.ylabel('Rate')\n",
    "plt.ylim(0, df['Rate'].max() + 80)\n",
    "plt.tight_layout()\n",
    "plt.show()"
   ]
  },
  {
   "cell_type": "markdown",
   "id": "88b4c3bd-5d1c-4442-ab41-ad63db3d0e73",
   "metadata": {},
   "source": [
    "This bar plot indicates the highest diabetes-related hospitalization rate and its corresponding county by year."
   ]
  },
  {
   "cell_type": "code",
   "execution_count": 18,
   "id": "d0856ad0-bb53-46b8-bba1-24484963caed",
   "metadata": {},
   "outputs": [],
   "source": [
    "cur.close()\n",
    "connection.close()"
   ]
  }
 ],
 "metadata": {
  "kernelspec": {
   "display_name": "Python 3 (ipykernel)",
   "language": "python",
   "name": "python3"
  },
  "language_info": {
   "codemirror_mode": {
    "name": "ipython",
    "version": 3
   },
   "file_extension": ".py",
   "mimetype": "text/x-python",
   "name": "python",
   "nbconvert_exporter": "python",
   "pygments_lexer": "ipython3",
   "version": "3.12.3"
  }
 },
 "nbformat": 4,
 "nbformat_minor": 5
}
