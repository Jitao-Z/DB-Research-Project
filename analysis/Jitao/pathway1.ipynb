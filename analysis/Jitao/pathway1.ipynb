{
 "cells": [
  {
   "cell_type": "markdown",
   "id": "b64a1c94-780b-433f-8b4b-bd30ec534444",
   "metadata": {},
   "source": [
    "# Rearch Pathway 1 - Jitao Zhang"
   ]
  },
  {
   "cell_type": "code",
   "execution_count": 1,
   "id": "98f6b8ac-f207-4930-8913-2fb158d20a46",
   "metadata": {},
   "outputs": [],
   "source": [
    "import oracledb\n",
    "import pandas as pd\n",
    "import statsmodels.api as sm\n",
    "import matplotlib.pyplot as plt\n",
    "import seaborn as sns\n",
    "import numpy as np\n",
    "from scipy.stats import boxcox"
   ]
  },
  {
   "cell_type": "markdown",
   "id": "711ff4c3-4ee6-4599-9450-0268d83af8c0",
   "metadata": {},
   "source": [
    "## SQL queries to pull and organize required data from the database"
   ]
  },
  {
   "cell_type": "code",
   "execution_count": 2,
   "id": "a3e7feec-4dd9-4722-9fae-52c16663815e",
   "metadata": {},
   "outputs": [],
   "source": [
    "# Connect\n",
    "dsn = oracledb.makedsn(\"localhost\", 1522, service_name=\"stu\")\n",
    "connection = oracledb.connect(user=\"ora_jitao888\", password=\"a37274248\", dsn=dsn)\n",
    "\n",
    "# example\n",
    "# dsn = oracledb.makedsn(\"localhost\", 1522, service_name=\"stu\")\n",
    "# connection = oracledb.connect(user=\"ora_wanqing1\", password=\"a65768004\", dsn=dsn)\n",
    "\n",
    "# cur = connection.cursor()\n",
    "# for row in cur.execute(\"select * from titles\"):\n",
    "#     print(row)\n",
    "# cur.close()"
   ]
  },
  {
   "cell_type": "code",
   "execution_count": 3,
   "id": "e1c87360-613e-4fc5-9134-3c61e352637f",
   "metadata": {},
   "outputs": [],
   "source": [
    "cur = connection.cursor()"
   ]
  },
  {
   "cell_type": "code",
   "execution_count": 4,
   "id": "81ec2890-785d-4d31-bac5-1cd4167fe193",
   "metadata": {},
   "outputs": [],
   "source": [
    "cur.execute(\"\"\"\n",
    "create or replace view hos_risk_count as \n",
    "select year, sum(Count_ICD10) as hospitalization_count, sum(Population_ICD10) as at_risk_count\n",
    "from counties\n",
    "group by year\n",
    "\"\"\")"
   ]
  },
  {
   "cell_type": "code",
   "execution_count": 5,
   "id": "47d2d3b2-15f4-4160-9ca4-e71fe421a9ec",
   "metadata": {},
   "outputs": [],
   "source": [
    "sql = \"\"\"\n",
    "select c.year, c.deaths, h.hospitalization_count, h.at_risk_count\n",
    "from california c, hos_risk_count h\n",
    "where c.year = h.year\n",
    "\"\"\""
   ]
  },
  {
   "cell_type": "code",
   "execution_count": 6,
   "id": "5b43634a-83fb-4543-8214-5a21b5bad590",
   "metadata": {},
   "outputs": [
    {
     "data": {
      "text/plain": [
       "[(2016, 9124, 210524, 240485148),\n",
       " (2017, 9595, 223666, 242301560),\n",
       " (2018, 9506, 223582, 243703888),\n",
       " (2019, 9854, 232276, 244452050),\n",
       " (2020, 11642, 213242, 245467320),\n",
       " (2021, 11440, 227968, 243920984),\n",
       " (2022, 11618, 241796, 244186520)]"
      ]
     },
     "execution_count": 6,
     "metadata": {},
     "output_type": "execute_result"
    }
   ],
   "source": [
    "cur.execute(sql)\n",
    "diabetes = cur.fetchall()\n",
    "cur.close()\n",
    "\n",
    "diabetes"
   ]
  },
  {
   "cell_type": "code",
   "execution_count": 7,
   "id": "94b16e54-b7c6-47ae-8fb1-becf4ce3d918",
   "metadata": {},
   "outputs": [
    {
     "data": {
      "text/html": [
       "<div>\n",
       "<style scoped>\n",
       "    .dataframe tbody tr th:only-of-type {\n",
       "        vertical-align: middle;\n",
       "    }\n",
       "\n",
       "    .dataframe tbody tr th {\n",
       "        vertical-align: top;\n",
       "    }\n",
       "\n",
       "    .dataframe thead th {\n",
       "        text-align: right;\n",
       "    }\n",
       "</style>\n",
       "<table border=\"1\" class=\"dataframe\">\n",
       "  <thead>\n",
       "    <tr style=\"text-align: right;\">\n",
       "      <th></th>\n",
       "      <th>year</th>\n",
       "      <th>death_count</th>\n",
       "      <th>hospitalization_count</th>\n",
       "      <th>risk_count</th>\n",
       "    </tr>\n",
       "  </thead>\n",
       "  <tbody>\n",
       "    <tr>\n",
       "      <th>0</th>\n",
       "      <td>2016</td>\n",
       "      <td>9124</td>\n",
       "      <td>210524</td>\n",
       "      <td>240485148</td>\n",
       "    </tr>\n",
       "    <tr>\n",
       "      <th>1</th>\n",
       "      <td>2017</td>\n",
       "      <td>9595</td>\n",
       "      <td>223666</td>\n",
       "      <td>242301560</td>\n",
       "    </tr>\n",
       "    <tr>\n",
       "      <th>2</th>\n",
       "      <td>2018</td>\n",
       "      <td>9506</td>\n",
       "      <td>223582</td>\n",
       "      <td>243703888</td>\n",
       "    </tr>\n",
       "    <tr>\n",
       "      <th>3</th>\n",
       "      <td>2019</td>\n",
       "      <td>9854</td>\n",
       "      <td>232276</td>\n",
       "      <td>244452050</td>\n",
       "    </tr>\n",
       "    <tr>\n",
       "      <th>4</th>\n",
       "      <td>2020</td>\n",
       "      <td>11642</td>\n",
       "      <td>213242</td>\n",
       "      <td>245467320</td>\n",
       "    </tr>\n",
       "    <tr>\n",
       "      <th>5</th>\n",
       "      <td>2021</td>\n",
       "      <td>11440</td>\n",
       "      <td>227968</td>\n",
       "      <td>243920984</td>\n",
       "    </tr>\n",
       "    <tr>\n",
       "      <th>6</th>\n",
       "      <td>2022</td>\n",
       "      <td>11618</td>\n",
       "      <td>241796</td>\n",
       "      <td>244186520</td>\n",
       "    </tr>\n",
       "  </tbody>\n",
       "</table>\n",
       "</div>"
      ],
      "text/plain": [
       "   year  death_count  hospitalization_count  risk_count\n",
       "0  2016         9124                 210524   240485148\n",
       "1  2017         9595                 223666   242301560\n",
       "2  2018         9506                 223582   243703888\n",
       "3  2019         9854                 232276   244452050\n",
       "4  2020        11642                 213242   245467320\n",
       "5  2021        11440                 227968   243920984\n",
       "6  2022        11618                 241796   244186520"
      ]
     },
     "execution_count": 7,
     "metadata": {},
     "output_type": "execute_result"
    }
   ],
   "source": [
    "diabetes_df = pd.DataFrame(diabetes, columns = ['year', 'death_count', 'hospitalization_count', 'risk_count'])\n",
    "diabetes_df"
   ]
  },
  {
   "cell_type": "markdown",
   "id": "f619bac7-d64e-414d-a065-c45edf3fb3c4",
   "metadata": {},
   "source": [
    "## Further data analysis through python"
   ]
  },
  {
   "cell_type": "markdown",
   "id": "a37c05fe-eb64-40a8-92e7-bd7a2ccf91d3",
   "metadata": {},
   "source": [
    "### First attempt of fitting a linear regression model:"
   ]
  },
  {
   "cell_type": "code",
   "execution_count": 8,
   "id": "e3bdbe4e-fcac-46ed-958a-2119a3b6ab70",
   "metadata": {},
   "outputs": [
    {
     "name": "stdout",
     "output_type": "stream",
     "text": [
      "                            OLS Regression Results                            \n",
      "==============================================================================\n",
      "Dep. Variable:            death_count   R-squared:                       0.519\n",
      "Model:                            OLS   Adj. R-squared:                  0.278\n",
      "Method:                 Least Squares   F-statistic:                     2.156\n",
      "Date:                Wed, 02 Apr 2025   Prob (F-statistic):              0.232\n",
      "Time:                        15:28:35   Log-Likelihood:                -55.959\n",
      "No. Observations:                   7   AIC:                             117.9\n",
      "Df Residuals:                       4   BIC:                             117.8\n",
      "Df Model:                           2                                         \n",
      "Covariance Type:            nonrobust                                         \n",
      "=========================================================================================\n",
      "                            coef    std err          t      P>|t|      [0.025      0.975]\n",
      "-----------------------------------------------------------------------------------------\n",
      "const                  -1.05e+05   5.99e+04     -1.752      0.155   -2.71e+05    6.14e+04\n",
      "hospitalization_count     0.0093      0.039      0.237      0.824      -0.099       0.118\n",
      "risk_count                0.0005      0.000      1.803      0.146      -0.000       0.001\n",
      "==============================================================================\n",
      "Omnibus:                          nan   Durbin-Watson:                   0.883\n",
      "Prob(Omnibus):                    nan   Jarque-Bera (JB):                0.775\n",
      "Skew:                          -0.407   Prob(JB):                        0.679\n",
      "Kurtosis:                       1.587   Cond. No.                     4.07e+10\n",
      "==============================================================================\n",
      "\n",
      "Notes:\n",
      "[1] Standard Errors assume that the covariance matrix of the errors is correctly specified.\n",
      "[2] The condition number is large, 4.07e+10. This might indicate that there are\n",
      "strong multicollinearity or other numerical problems.\n"
     ]
    },
    {
     "name": "stderr",
     "output_type": "stream",
     "text": [
      "/opt/conda/lib/python3.12/site-packages/statsmodels/stats/stattools.py:74: ValueWarning: omni_normtest is not valid with less than 8 observations; 7 samples were given.\n",
      "  warn(\"omni_normtest is not valid with less than 8 observations; %i \"\n"
     ]
    }
   ],
   "source": [
    "X = diabetes_df[['hospitalization_count', 'risk_count']]\n",
    "y = diabetes_df['death_count']\n",
    "\n",
    "X = sm.add_constant(X)\n",
    "\n",
    "model = sm.OLS(y, X).fit()\n",
    "\n",
    "print(model.summary())"
   ]
  },
  {
   "cell_type": "code",
   "execution_count": 17,
   "id": "3b304b94-37dd-4422-9b02-422b3daba5f1",
   "metadata": {},
   "outputs": [
    {
     "data": {
      "image/png": "[encoded data removed]",
      "text/plain": [
       "<Figure size 800x500 with 1 Axes>"
      ]
     },
     "metadata": {},
     "output_type": "display_data"
    }
   ],
   "source": [
    "fitted_values = model.fittedvalues\n",
    "residuals = model.resid\n",
    "\n",
    "# Plot the residual plot\n",
    "plt.figure(figsize=(8, 5))\n",
    "sns.residplot(x=fitted_values, y=residuals)\n",
    "plt.axhline(0, color='black', linestyle='--', lw=1)\n",
    "plt.xlabel(\"Fitted Values\")\n",
    "plt.ylabel(\"Residuals\")\n",
    "plt.title(\"Residual Plot for the First Model\")\n",
    "plt.show()"
   ]
  },
  {
   "cell_type": "markdown",
   "id": "b2355f96-926b-4e69-a9fb-c29aeca275fb",
   "metadata": {},
   "source": [
    "### Second attempt of adding an interaction term and applying log transformation on y:"
   ]
  },
  {
   "cell_type": "code",
   "execution_count": 14,
   "id": "78e281df-9071-448f-999d-5752c6d3c03f",
   "metadata": {},
   "outputs": [
    {
     "name": "stdout",
     "output_type": "stream",
     "text": [
      "                            OLS Regression Results                            \n",
      "==============================================================================\n",
      "Dep. Variable:            death_count   R-squared:                       0.535\n",
      "Model:                            OLS   Adj. R-squared:                  0.303\n",
      "Method:                 Least Squares   F-statistic:                     2.304\n",
      "Date:                Wed, 02 Apr 2025   Prob (F-statistic):              0.216\n",
      "Time:                        15:51:02   Log-Likelihood:                 8.9435\n",
      "No. Observations:                   7   AIC:                            -11.89\n",
      "Df Residuals:                       4   BIC:                            -12.05\n",
      "Df Model:                           2                                         \n",
      "Covariance Type:            nonrobust                                         \n",
      "====================================================================================================\n",
      "                                       coef    std err          t      P>|t|      [0.025      0.975]\n",
      "----------------------------------------------------------------------------------------------------\n",
      "const                            -3.824e-11   1.29e-10     -0.296      0.782   -3.97e-10    3.21e-10\n",
      "hospitalization_count            -8.162e-06   2.76e-05     -0.296      0.782   -8.48e-05    6.85e-05\n",
      "risk_count                        3.709e-08   3.41e-09     10.861      0.000    2.76e-08    4.66e-08\n",
      "hospitalization_risk_interaction  3.741e-14   1.08e-13      0.346      0.747   -2.63e-13    3.38e-13\n",
      "==============================================================================\n",
      "Omnibus:                          nan   Durbin-Watson:                   0.889\n",
      "Prob(Omnibus):                    nan   Jarque-Bera (JB):                0.763\n",
      "Skew:                          -0.414   Prob(JB):                        0.683\n",
      "Kurtosis:                       1.610   Cond. No.                     3.33e+17\n",
      "==============================================================================\n",
      "\n",
      "Notes:\n",
      "[1] Standard Errors assume that the covariance matrix of the errors is correctly specified.\n",
      "[2] The condition number is large, 3.33e+17. This might indicate that there are\n",
      "strong multicollinearity or other numerical problems.\n"
     ]
    },
    {
     "name": "stderr",
     "output_type": "stream",
     "text": [
      "/opt/conda/lib/python3.12/site-packages/statsmodels/stats/stattools.py:74: ValueWarning: omni_normtest is not valid with less than 8 observations; 7 samples were given.\n",
      "  warn(\"omni_normtest is not valid with less than 8 observations; %i \"\n"
     ]
    }
   ],
   "source": [
    "diabetes_df['hospitalization_risk_interaction'] = diabetes_df['hospitalization_count'] * diabetes_df['risk_count']\n",
    "\n",
    "X_2 = diabetes_df[['hospitalization_count', 'risk_count', 'hospitalization_risk_interaction']]\n",
    "X_2 = sm.add_constant(X_2)\n",
    "\n",
    "y_log = np.log(y)\n",
    "               \n",
    "# Fit the linear regression model with interaction\n",
    "model_interaction = sm.OLS(y_log, X_2).fit()\n",
    "\n",
    "print(model_interaction.summary())"
   ]
  },
  {
   "cell_type": "code",
   "execution_count": 19,
   "id": "0fbf8eca-b783-4ae6-97b5-d52945c0f030",
   "metadata": {},
   "outputs": [
    {
     "data": {
      "image/png": "[encoded data removed]",
      "text/plain": [
       "<Figure size 800x500 with 1 Axes>"
      ]
     },
     "metadata": {},
     "output_type": "display_data"
    }
   ],
   "source": [
    "fitted_values = model_interaction.fittedvalues\n",
    "residuals = model_interaction.resid\n",
    "\n",
    "# Plot the residual plot\n",
    "plt.figure(figsize=(8, 5))\n",
    "sns.residplot(x=fitted_values, y=residuals)\n",
    "plt.axhline(0, color='black', linestyle='--', lw=1)\n",
    "plt.xlabel(\"Fitted Values\")\n",
    "plt.ylabel(\"Residuals\")\n",
    "plt.title(\"New Residual Plot for the Second Model with An Additional Interaction Term and log Transformation\")\n",
    "plt.show()"
   ]
  }
 ],
 "metadata": {
  "kernelspec": {
   "display_name": "Python 3 (ipykernel)",
   "language": "python",
   "name": "python3"
  },
  "language_info": {
   "codemirror_mode": {
    "name": "ipython",
    "version": 3
   },
   "file_extension": ".py",
   "mimetype": "text/x-python",
   "name": "python",
   "nbconvert_exporter": "python",
   "pygments_lexer": "ipython3",
   "version": "3.12.8"
  }
 },
 "nbformat": 4,
 "nbformat_minor": 5
}
